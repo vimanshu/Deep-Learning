{
  "nbformat": 4,
  "nbformat_minor": 0,
  "metadata": {
    "colab": {
      "name": "tesseract-ocr.ipynb",
      "provenance": [],
      "collapsed_sections": [],
      "authorship_tag": "ABX9TyMHrKmbk2JafYY2giP8T+wd",
      "include_colab_link": true
    },
    "kernelspec": {
      "name": "python3",
      "display_name": "Python 3"
    },
    "language_info": {
      "name": "python"
    }
  },
  "cells": [
    {
      "cell_type": "markdown",
      "metadata": {
        "id": "view-in-github",
        "colab_type": "text"
      },
      "source": [
        "<a href=\"https://colab.research.google.com/github/vimanshu/Deep-Learning/blob/main/tesseract_ocr.ipynb\" target=\"_parent\"><img src=\"https://colab.research.google.com/assets/colab-badge.svg\" alt=\"Open In Colab\"/></a>"
      ]
    },
    {
      "cell_type": "code",
      "execution_count": null,
      "metadata": {
        "id": "pI3D2aRTvIsM"
      },
      "outputs": [],
      "source": [
        "!pip install pytesseract"
      ]
    },
    {
      "cell_type": "code",
      "source": [
        "import PIL"
      ],
      "metadata": {
        "id": "aWW36Wh0vajb"
      },
      "execution_count": 2,
      "outputs": []
    },
    {
      "cell_type": "code",
      "source": [
        "import pytesseract"
      ],
      "metadata": {
        "id": "4r-s_xcdvhmW"
      },
      "execution_count": 3,
      "outputs": []
    },
    {
      "cell_type": "code",
      "source": [
        "from PIL import Image"
      ],
      "metadata": {
        "id": "DaRnqhfbvjSU"
      },
      "execution_count": 4,
      "outputs": []
    },
    {
      "cell_type": "code",
      "source": [
        "!sudo apt install tesseract-ocr\n"
      ],
      "metadata": {
        "id": "Fre51bsk9ozU"
      },
      "execution_count": null,
      "outputs": []
    },
    {
      "cell_type": "code",
      "source": [
        "pytesseract.pytesseract.tesseract_cmd = r'/usr/bin/tesseract'\n",
        "print(pytesseract.image_to_string(Image.open('/content/test.JPG')))"
      ],
      "metadata": {
        "colab": {
          "base_uri": "https://localhost:8080/"
        },
        "id": "mDHhfIWYvwME",
        "outputId": "579d5652-2d9e-49c6-ea48-adca4fc369a1"
      },
      "execution_count": 13,
      "outputs": [
        {
          "output_type": "stream",
          "name": "stdout",
          "text": [
            "= Two strings A and B are called anagrams if it is possible to make A and B equal\n",
            "by rearranging characters of A and B. This means that abcd and deab are\n",
            "\n",
            "anagrams while abc and bcd are not. bs\n",
            "\n",
            "input Format\n",
            "The firstline contains an integer, N, denoting the size of the string S.\n",
            "The next line contains a string, S, denoting the string S.\n",
            "\n",
            " \n",
            "\f\n"
          ]
        }
      ]
    },
    {
      "cell_type": "code",
      "source": [
        ""
      ],
      "metadata": {
        "id": "eYXatMSwv5c4"
      },
      "execution_count": null,
      "outputs": []
    }
  ]
}